{
 "cells": [
  {
   "cell_type": "code",
   "execution_count": null,
   "metadata": {},
   "outputs": [],
   "source": [
    "from sklearn.neighbors import KNeighborsClassifier \n",
    "from sklearn.model_selection import train_test_split \n",
    "from sklearn.datasets import load_iris \n",
    "import random\n",
    "data_iris=load_iris() \n",
    "label_target=data_iris.target_names \n",
    "print() \n",
    "print(\"Sample data from the iris dataset: \") \n",
    "print(\"*\"*30) \n",
    "for i in range(10): \n",
    "    rn=random.randint(0,120) \n",
    "    \n",
    "    print(data_iris.data[rn],\"==>\",label_target[data_iris.target[rn]]) \n",
    "X=data_iris.data \n",
    "y=data_iris.target \n",
    "X_train,X_test,y_train,y_test=train_test_split(X,y,test_size=0.2,random_state=8) \n",
    "print(\"The training dataset length: \",len(X_train)) \n",
    "print(\"The testing dataset length: \",len(X_test)) \n",
    "try: \n",
    "    nn=int(input(\"Enter number of neighbors: \")) \n",
    "    knn=KNeighborsClassifier(nn) \n",
    "    knn.fit(X_train,y_train) \n",
    "    test_data=input(\"Enter test data: \").split(\",\") \n",
    "    for i in range(len(test_data)): \n",
    "        test_data[i]=float(test_data[i]) \n",
    "    print() \n",
    "    v=knn.predict([test_data]) \n",
    "    print(\"Predicted output is: \", label_target[v]) \n",
    "except: \n",
    "    print(\"Please provide valid input...\")"
   ]
  }
 ],
 "metadata": {
  "kernelspec": {
   "display_name": "Python 3",
   "language": "python",
   "name": "python3"
  },
  "language_info": {
   "codemirror_mode": {
    "name": "ipython",
    "version": 3
   },
   "file_extension": ".py",
   "mimetype": "text/x-python",
   "name": "python",
   "nbconvert_exporter": "python",
   "pygments_lexer": "ipython3",
   "version": "3.10.11"
  }
 },
 "nbformat": 4,
 "nbformat_minor": 2
}
