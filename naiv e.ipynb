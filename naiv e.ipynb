{
 "cells": [
  {
   "cell_type": "code",
   "execution_count": 1,
   "metadata": {},
   "outputs": [
    {
     "name": "stdout",
     "output_type": "stream",
     "text": [
      "(11, 4) (11,)\n",
      "Predicted value:  [1]\n"
     ]
    }
   ],
   "source": [
    "import numpy as np \n",
    "import pandas as pd \n",
    "from sklearn.naive_bayes import GaussianNB \n",
    "from sklearn.model_selection import train_test_split \n",
    "from sklearn import metrics \n",
    "data={ \n",
    "'outlook': \n",
    "['sunny','sunny','overcast','rainy','rainy','rainy','overcast','sunny','sunny','rainy','sunny','overcast','overcast','rainy'], \n",
    "'temp': \n",
    "['hot','hot','hot','mild','cool','cool','cool','mild','cool','mild','mild','mild','hot','mild'], \n",
    "'humidity': \n",
    "['high','high','high','high','normal','normal','normal','high','normal','normal','normal','high','normal','high'], \n",
    "'windy': \n",
    "['false','true','false','false','false','true','true','false','false','false','true','true','false','true'], \n",
    "'play': \n",
    "['no','no','yes','yes','yes','no','yes','no','yes','yes','yes','yes','yes','no'] \n",
    "} \n",
    "df=pd.DataFrame(data) \n",
    "df \n",
    "df_c=df.astype('category') \n",
    "df_c[\"outlook\"]=df_c[\"outlook\"].cat.codes \n",
    "df_c[\"temp\"]=df_c[\"temp\"].cat.codes \n",
    "df_c[\"humidity\"]=df_c[\"humidity\"].cat.codes \n",
    "df_c[\"windy\"]=df_c[\"windy\"].cat.codes \n",
    "df_c[\"play\"]=df_c[\"play\"].cat.codes \n",
    "df_c.head(14) \n",
    "X=df_c.iloc[:,:4].values \n",
    "X \n",
    "Y=df_c.iloc[:,4].values \n",
    "Y \n",
    "X_train,X_test,y_train,y_test=train_test_split(X,Y,test_size=0.2,random_state=45) \n",
    "print(X_train.shape,y_train.shape) \n",
    "model=GaussianNB() \n",
    "model.fit(X_train,y_train) \n",
    "predicted=model.predict([[0,2,2,1]]) \n",
    "print(\"Predicted value: \",predicted)"
   ]
  },
  {
   "cell_type": "code",
   "execution_count": null,
   "metadata": {},
   "outputs": [],
   "source": []
  }
 ],
 "metadata": {
  "kernelspec": {
   "display_name": "Python 3",
   "language": "python",
   "name": "python3"
  },
  "language_info": {
   "codemirror_mode": {
    "name": "ipython",
    "version": 3
   },
   "file_extension": ".py",
   "mimetype": "text/x-python",
   "name": "python",
   "nbconvert_exporter": "python",
   "pygments_lexer": "ipython3",
   "version": "3.10.11"
  }
 },
 "nbformat": 4,
 "nbformat_minor": 2
}
